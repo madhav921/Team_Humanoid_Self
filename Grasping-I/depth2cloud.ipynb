{
  "nbformat": 4,
  "nbformat_minor": 0,
  "metadata": {
    "colab": {
      "name": "depth2cloud.ipynb",
      "provenance": []
    },
    "kernelspec": {
      "name": "python3",
      "display_name": "Python 3"
    },
    "language_info": {
      "name": "python"
    }
  },
  "cells": [
    {
      "cell_type": "code",
      "metadata": {
        "colab": {
          "base_uri": "https://localhost:8080/",
          "height": 374
        },
        "id": "S4YqaL8qSWKf",
        "outputId": "3d9f1edd-7670-4d80-fc65-efba4c9b03b4"
      },
      "source": [
        "from future import division\n",
        "\n",
        "import PIL.Image\n",
        "\n",
        "import trimesh\n",
        "\n",
        "import numpy as np\n",
        "\n",
        "import cv2\n",
        "\n",
        "def pointcloud(depth, fov):\n",
        "\n",
        "    fy = fx = 0.5 / np.tan(fov * 0.5) # assume aspectRatio is one.\n",
        "\n",
        "    height = depth.shape[0]\n",
        "\n",
        "    width = depth.shape[1]\n",
        "\n",
        "    mask = np.where(depth > 0)\n",
        "\n",
        "    x = mask[1]\n",
        "\n",
        "    y = mask[0]\n",
        "\n",
        "    normalized_x = (x.astype(np.float32) - width * 0.5) / width\n",
        "\n",
        "    normalized_y = (y.astype(np.float32) - height * 0.5) / height\n",
        "\n",
        "    world_x = normalized_x * depth[y, x] / fx\n",
        "\n",
        "    world_y = normalized_y * depth[y, x] / fy\n",
        "\n",
        "    world_z = depth[y, x]\n",
        "\n",
        "    ones = np.ones(world_z.shape[0], dtype=np.float32)\n",
        "\n",
        "    return np.vstack((world_x, world_y, world_z)).T"
      ],
      "execution_count": null,
      "outputs": [
        {
          "output_type": "error",
          "ename": "ImportError",
          "evalue": "ignored",
          "traceback": [
            "\u001b[0;31m---------------------------------------------------------------------------\u001b[0m",
            "\u001b[0;31mImportError\u001b[0m                               Traceback (most recent call last)",
            "\u001b[0;32m<ipython-input-1-28713ef83853>\u001b[0m in \u001b[0;36m<module>\u001b[0;34m()\u001b[0m\n\u001b[0;32m----> 1\u001b[0;31m \u001b[0;32mfrom\u001b[0m \u001b[0mfuture\u001b[0m \u001b[0;32mimport\u001b[0m \u001b[0mdivision\u001b[0m\u001b[0;34m\u001b[0m\u001b[0;34m\u001b[0m\u001b[0m\n\u001b[0m\u001b[1;32m      2\u001b[0m \u001b[0;34m\u001b[0m\u001b[0m\n\u001b[1;32m      3\u001b[0m \u001b[0;32mimport\u001b[0m \u001b[0mPIL\u001b[0m\u001b[0;34m.\u001b[0m\u001b[0mImage\u001b[0m\u001b[0;34m\u001b[0m\u001b[0;34m\u001b[0m\u001b[0m\n\u001b[1;32m      4\u001b[0m \u001b[0;34m\u001b[0m\u001b[0m\n\u001b[1;32m      5\u001b[0m \u001b[0;32mimport\u001b[0m \u001b[0mtrimesh\u001b[0m\u001b[0;34m\u001b[0m\u001b[0;34m\u001b[0m\u001b[0m\n",
            "\u001b[0;31mImportError\u001b[0m: cannot import name 'division' from 'future' (/usr/local/lib/python3.7/dist-packages/future/__init__.py)",
            "",
            "\u001b[0;31m---------------------------------------------------------------------------\u001b[0;32m\nNOTE: If your import is failing due to a missing package, you can\nmanually install dependencies using either !pip or !apt.\n\nTo view examples of installing some common dependencies, click the\n\"Open Examples\" button below.\n\u001b[0;31m---------------------------------------------------------------------------\u001b[0m\n"
          ],
          "errorDetails": {
            "actions": [
              {
                "action": "open_url",
                "actionText": "Open Examples",
                "url": "/notebooks/snippets/importing_libraries.ipynb"
              }
            ]
          }
        }
      ]
    },
    {
      "cell_type": "code",
      "metadata": {
        "id": "h1Gxz5fwTKkA"
      },
      "source": [
        "# from future import division\n",
        "\n",
        "import PIL.Image\n",
        "\n",
        "# import trimesh\n",
        "\n",
        "import numpy as np\n",
        "\n",
        "import cv2\n",
        "\n",
        "def pointcloud(depth, fov):\n",
        "\n",
        "    fy = fx = 0.5 / np.tan(fov * 0.5) # assume aspectRatio is one.\n",
        "\n",
        "    height = depth.shape[0]\n",
        "\n",
        "    width = depth.shape[1]\n",
        "\n",
        "    mask = np.where(depth > 0)\n",
        "\n",
        "    x = mask[1]\n",
        "\n",
        "    y = mask[0]\n",
        "\n",
        "    normalized_x = (x.astype(np.float32) - width * 0.5) / width\n",
        "\n",
        "    normalized_y = (y.astype(np.float32) - height * 0.5) / height\n",
        "\n",
        "    world_x = normalized_x * depth[y, x] / fx\n",
        "\n",
        "    world_y = normalized_y * depth[y, x] / fy\n",
        "\n",
        "    world_z = depth[y, x]\n",
        "\n",
        "    ones = np.ones(world_z.shape[0], dtype=np.float32)\n",
        "\n",
        "    return np.vstack((world_x, world_y, world_z)).T"
      ],
      "execution_count": null,
      "outputs": []
    },
    {
      "cell_type": "code",
      "metadata": {
        "id": "-JUJwRk5VHEB"
      },
      "source": [
        "    def pointcloud(depth, fov):\n",
        "        fy = fx = 0.5 / np.tan(fov * 0.5) # assume aspectRatio is one.\n",
        "        height = depth.shape[0]\n",
        "        width = depth.shape[1]\n",
        "\n",
        "        mask = np.where(depth > 0)\n",
        "        \n",
        "        x = mask[1]\n",
        "        y = mask[0]\n",
        "        \n",
        "        normalized_x = (x.astype(np.float32) - width * 0.5) / width\n",
        "        normalized_y = (y.astype(np.float32) - height * 0.5) / height\n",
        "        \n",
        "        world_x = normalized_x * depth[y, x] / fx\n",
        "        world_y = normalized_y * depth[y, x] / fy\n",
        "        world_z = depth[y, x]\n",
        "        ones = np.ones(world_z.shape[0], dtype=np.float32)\n",
        "\n",
        "        return np.vstack((world_x, world_y, world_z, ones)).T\n"
      ],
      "execution_count": null,
      "outputs": []
    },
    {
      "cell_type": "code",
      "metadata": {
        "colab": {
          "base_uri": "https://localhost:8080/",
          "height": 234
        },
        "id": "aT6seNyFUWnH",
        "outputId": "e6f7e959-5905-43fc-91a6-5b213058941e"
      },
      "source": [
        "if name == 'main':\n",
        "    # test on a simple mesh\n",
        "    mesh = trimesh.load('../models/featuretype.STL')\n",
        "\n",
        "    # scene will have automatically generated camera and lights\n",
        "    scene = mesh.scene()\n",
        "\n",
        "    # any of the automatically generated values can be overridden\n",
        "    # set resolution, in pixels\n",
        "    scene.camera.resolution = [480, 480]\n",
        "    # set field of view, in degrees\n",
        "    # make it relative to resolution so pixels per degree is same\n",
        "    scene.camera.fov = 60 * (scene.camera.resolution /\n",
        "                            scene.camera.resolution.max())\n",
        "\n",
        "    # convert the camera to rays with one ray per pixel\n",
        "    origin, vectors = scene.camera_rays()\n",
        "\n",
        "    # intersects_location requires origins to be the same shape as vectors\n",
        "    origins = np.tile(np.expand_dims(origin, 0), (len(vectors), 1))\n",
        "\n",
        "    # do the actual ray- mesh queries\n",
        "    points, index_ray, index_tri = mesh.ray.intersects_location(\n",
        "        origins, vectors, multiple_hits=False)\n",
        "    #points, index_ray, index_tri = mesh.ray.intersects_id(\n",
        "    #    origins, vectors, multiple_hits=True, return_locations=True)\n",
        "\n",
        "    print(points[0])\n",
        "    print(index_ray.shape)\n",
        "    print(index_tri.shape)\n",
        "    # for each hit, find the distance along its vector\n",
        "    # you could also do this against the single camera Z vector\n",
        "    depth = trimesh.util.diagonal_dot(points - origin,\n",
        "                                      vectors[index_ray])\n",
        "    # find the angular resolution, in pixels per radian\n",
        "    ppr = scene.camera.resolution / np.radians(scene.camera.fov)\n",
        "    # convert rays to pixel locations\n",
        "    angles = scene.camera.angles()\n",
        "    print('angles ',ppr)\n",
        "    pixel = (angles * ppr).round().astype(np.int64)\n",
        "    # make sure we are in the first quadrant\n",
        "    pixel -= pixel.min(axis=0)\n",
        "    # find pixel locations of actual hits\n",
        "    pixel_ray = pixel[index_ray]\n",
        "\n",
        "    # create a numpy array we can turn into an image\n",
        "    # doing it with uint8 creates an `L` mode greyscale image\n",
        "    a = np.zeros(scene.camera.resolution, dtype=np.uint8)\n",
        "\n",
        "    # scale depth against range (0.0 - 1.0)\n",
        "    depth_float = ((depth - depth.min()) / depth.ptp())\n",
        "    print('Depth shape ', depth_float.shape)\n",
        "\n",
        "    # convert depth into 0 - 255 uint8\n",
        "    depth_int = (depth_float * 255).astype(np.uint8)\n",
        "    # assign depth to correct pixel locations\n",
        "    a[pixel_ray[:, 0], pixel_ray[:, 1]] = depth_int\n",
        "\n",
        "    # create a PIL image from the depth queries\n",
        "    img = PIL.Image.fromarray(a)\n",
        "\n",
        "    img.show()\n",
        "    img.save(\"feature.png\")\n",
        "\n",
        "    depth_img = cv2.imread('feature.png',0)\n",
        "    pcl = pointcloud(depth_img, 60)\n",
        "    np.savetxt('recon.xyz', pcl)\n"
      ],
      "execution_count": null,
      "outputs": [
        {
          "output_type": "error",
          "ename": "NameError",
          "evalue": "ignored",
          "traceback": [
            "\u001b[0;31m---------------------------------------------------------------------------\u001b[0m",
            "\u001b[0;31mNameError\u001b[0m                                 Traceback (most recent call last)",
            "\u001b[0;32m<ipython-input-7-b6a796366fc3>\u001b[0m in \u001b[0;36m<module>\u001b[0;34m()\u001b[0m\n\u001b[0;32m----> 1\u001b[0;31m \u001b[0;32mif\u001b[0m \u001b[0mname\u001b[0m \u001b[0;34m==\u001b[0m \u001b[0;34m'main'\u001b[0m\u001b[0;34m:\u001b[0m\u001b[0;34m\u001b[0m\u001b[0;34m\u001b[0m\u001b[0m\n\u001b[0m\u001b[1;32m      2\u001b[0m     \u001b[0;31m# test on a simple mesh\u001b[0m\u001b[0;34m\u001b[0m\u001b[0;34m\u001b[0m\u001b[0;34m\u001b[0m\u001b[0m\n\u001b[1;32m      3\u001b[0m     \u001b[0mmesh\u001b[0m \u001b[0;34m=\u001b[0m \u001b[0mtrimesh\u001b[0m\u001b[0;34m.\u001b[0m\u001b[0mload\u001b[0m\u001b[0;34m(\u001b[0m\u001b[0;34m'../models/featuretype.STL'\u001b[0m\u001b[0;34m)\u001b[0m\u001b[0;34m\u001b[0m\u001b[0;34m\u001b[0m\u001b[0m\n\u001b[1;32m      4\u001b[0m \u001b[0;34m\u001b[0m\u001b[0m\n\u001b[1;32m      5\u001b[0m     \u001b[0;31m# scene will have automatically generated camera and lights\u001b[0m\u001b[0;34m\u001b[0m\u001b[0;34m\u001b[0m\u001b[0;34m\u001b[0m\u001b[0m\n",
            "\u001b[0;31mNameError\u001b[0m: name 'name' is not defined"
          ]
        }
      ]
    }
  ]
}